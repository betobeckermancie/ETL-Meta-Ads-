{
 "cells": [
  {
   "cell_type": "code",
   "execution_count": 0,
   "metadata": {
    "application/vnd.databricks.v1+cell": {
     "cellMetadata": {
      "byteLimit": 2048000,
      "rowLimit": 10000
     },
     "inputWidgets": {},
     "nuid": "795ec967-d7d5-403c-9c9e-b8e289b3e6b5",
     "showTitle": false,
     "tableResultSettingsMap": {},
     "title": ""
    }
   },
   "outputs": [
    {
     "output_type": "stream",
     "name": "stdout",
     "output_type": "stream",
     "text": [
      "                                                      id_anuncio  ...  contenido_guardado\nnombre_anuncio                                                    ...                    \nTest_AdGenMascotas_Mejorado_Sept_EnDelante          1.202103e+17  ...                 1.5\nTest_AdMorilloNaturaleza_Generico                   1.202103e+17  ...                 NaN\nTest_AdOcultoT146Morillo_Mejorado_SeptEnDelante     1.202103e+17  ...                 NaN\nTest_AdOcultoT146Morillo_NoCompres                  1.202104e+17  ...                 NaN\nTest_AdOculto_Morillo106_DifMascotas_MejoradoSe...  1.202103e+17  ...                 NaN\nTest_AdOculto_Morillo106_DifSala_MejoradoSeptDe...  1.202103e+17  ...                 NaN\nTest_AdOculto_Morillo106_NoCompres                  1.202104e+17  ...                 NaN\nTest_AdOculto_Morillo82_NoCompres                   1.202104e+17  ...                 NaN\nTest_Ad_Amenidades_Video_Altavista                  1.202103e+17  ...                 NaN\nTest_Ad_Carrusel_Wha_Rocal                          1.202105e+17  ...                 1.0\nTest_Ad_Carrusel_Wha_Rocal146                       1.202105e+17  ...                 NaN\nTest_Ad_ConverWha_AdivinaQuien                      1.202105e+17  ...                 NaN\nTest_Ad_ConverWha_AnilloLlavero                     1.202106e+17  ...                 NaN\nTest_Ad_ConverWha_Independice                       1.202106e+17  ...                 NaN\nTest_Ad_ConverWha_Joker                             1.202105e+17  ...                 NaN\nTest_Ad_ConverWha_Rumores                           1.202105e+17  ...                 NaN\nTest_Ad_Img_Ultimas146Morillo_MejoradoSeptDelante   1.202103e+17  ...                 NaN\nTest_Ad_JuegoChiquillos_Generico_MejoradoSeptEn...  1.202103e+17  ...                 NaN\nTest_Ad_LikeFb_AdivinaQuien                         1.202105e+17  ...                 1.0\nTest_Ad_LikeFb_Joker                                1.202105e+17  ...                 NaN\nTest_Ad_LikeFb_Rumores                              1.202105e+17  ...                 NaN\nTest_Ad_Reco_Arqui_FacePage_Mejorado                1.202103e+17  ...                 NaN\nTest_Ad_Reco_FacePage_ConsejosChino_Mejorado        1.202103e+17  ...                 1.0\nTest_Ad_Reco_FacePage_Suiza_Face_Mejorado           1.202103e+17  ...                 1.0\nTest_Ad_Roc2_AntiPsicoInve_Mod102                   1.202104e+17  ...                 1.0\nTest_Ad_Roc2_AntiPsicoInver_Mod146                  1.202104e+17  ...                 NaN\nTest_Ad_Sept_Ultimas_Carrusel106Morillo_Mejorado    1.202103e+17  ...                 NaN\nTest_Ad_Sept_Ultimas_Carrusel146Morillo_Mejorado    1.202103e+17  ...                 NaN\nTest_Ad_Sept_Ultimas_Carrusel88Altavista_Mejorado   1.202103e+17  ...                 NaN\nTest_Ad_SoloLikesFb_Arqui                           1.202103e+17  ...                 1.0\nTest_Ad_Ultimas88_Altavista_Mejorado                1.202103e+17  ...                 NaN\nTest_Ad_VideoVenta_AmenidadesMorillo_Mejorado_S...  1.202103e+17  ...                 NaN\nTest_Ad_VideoVenta_InfoMod106Morillo_Mejorado_S...  1.202103e+17  ...                 NaN\nTest__Ad_Oculto_T106Alta_Mejorado                   1.202103e+17  ...                 NaN\nTest__Ad_Oculto_T106Alta_NoCompres                  1.202104e+17  ...                 NaN\nTest__Ad_Oculto_T80Alta_Mejorado                    1.202103e+17  ...                 NaN\nTest__Ad_Oculto_T80Alta_NoCompres                   1.202104e+17  ...                 1.0\nTest__Ad_Oculto_T88Alta_Mejorado                    1.202103e+17  ...                 NaN\nTest__Ad_Oculto_T88Alta_NoCompres                   1.202104e+17  ...                 NaN\n\n[39 rows x 26 columns]\n"
     ]
    }
   ],
   "source": [
    "import pandas as pd\n",
    "\n",
    "# Cargar el archivo CSV\n",
    "df = pd.read_csv(\"/dbfs/mnt/processed/Ads_General_Por_Dia/anuncios_insights_general_por_dia_limpiado.csv\")\n",
    "\n",
    "# Agrupar por 'nombre_anuncio' y calcular estadísticas descriptivas para las columnas numéricas\n",
    "df_grouped = df.groupby('nombre_anuncio').mean(numeric_only=True)\n",
    "\n",
    "# Mostrar el resultado\n",
    "print(df_grouped)\n"
   ]
  }
 ],
 "metadata": {
  "application/vnd.databricks.v1+notebook": {
   "dashboards": [],
   "environmentMetadata": null,
   "language": "python",
   "notebookMetadata": {
    "pythonIndentUnit": 4
   },
   "notebookName": "GroupsByAnalisisNumerico",
   "widgets": {}
  },
  "language_info": {
   "name": "python"
  }
 },
 "nbformat": 4,
 "nbformat_minor": 0
}
