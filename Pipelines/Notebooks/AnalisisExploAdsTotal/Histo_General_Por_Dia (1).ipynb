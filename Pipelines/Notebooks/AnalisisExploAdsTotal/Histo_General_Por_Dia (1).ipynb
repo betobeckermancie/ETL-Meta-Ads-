{
 "cells": [
  {
   "cell_type": "code",
   "execution_count": 0,
   "metadata": {
    "application/vnd.databricks.v1+cell": {
     "cellMetadata": {
      "byteLimit": 2048000,
      "rowLimit": 10000
     },
     "inputWidgets": {},
     "nuid": "e0459377-de66-4332-9a58-e7b816f09389",
     "showTitle": false,
     "tableResultSettingsMap": {},
     "title": ""
    }
   },
   "outputs": [],
   "source": [
    "import pandas as pd\n",
    "import matplotlib.pyplot as plt\n",
    "import matplotlib.dates as mdates\n",
    "\n",
    "# Cargar el archivo CSV\n",
    "df = pd.read_csv(\"/dbfs/mnt/processed/Ads_General_Por_Dia/anuncios_insights_general_por_dia_limpiado.csv\")\n",
    "\n",
    "# Asegurarse de que la columna date_start esté en formato de fecha\n",
    "df['fecha_inicio'] = pd.to_datetime(df['fecha_inicio'])\n",
    "\n",
    "# Especificar el parámetro que deseas analizar\n",
    "parametro_a_analizar = 'vistas_video'  # Cambia este valor por la columna que deseas analizar\n",
    "\n",
    "# Agrupar por fecha y sumar el parámetro seleccionado\n",
    "df_grouped = df.groupby('fecha_inicio')[parametro_a_analizar].sum()\n",
    "\n",
    "# Crear el histograma para mostrar la distribución del parámetro a lo largo del tiempo (por fecha)\n",
    "plt.figure(figsize=(10, 6))\n",
    "plt.hist(df_grouped.index, weights=df_grouped.values, bins=30, color='skyblue')\n",
    "\n",
    "# Formatear las fechas en el eje x para que se muestren con el formato deseado\n",
    "plt.gca().xaxis.set_major_formatter(mdates.DateFormatter('%d/%m'))\n",
    "plt.gca().xaxis.set_major_locator(mdates.DayLocator(interval=3))  # Intervalo de 7 días\n",
    "\n",
    "# Añadir etiquetas y título dinámico basado en el parámetro\n",
    "plt.title(f'Histograma de {parametro_a_analizar} a lo largo del tiempo (por Fecha)')\n",
    "plt.xlabel('Fecha')\n",
    "plt.ylabel(f'Cantidad de {parametro_a_analizar}')\n",
    "\n",
    "# Mostrar el gráfico\n",
    "plt.tight_layout()\n",
    "plt.show()"
   ]
  },
  {
   "cell_type": "code",
   "execution_count": 0,
   "metadata": {
    "application/vnd.databricks.v1+cell": {
     "cellMetadata": {
      "byteLimit": 2048000,
      "rowLimit": 10000
     },
     "inputWidgets": {},
     "nuid": "f3c1eac8-b470-4330-a3eb-f3686343d7cb",
     "showTitle": false,
     "tableResultSettingsMap": {},
     "title": ""
    }
   },
   "outputs": [],
   "source": [
    "import pandas as pd\n",
    "import matplotlib.pyplot as plt\n",
    "import matplotlib.dates as mdates\n",
    "\n",
    "# Cargar el archivo CSV\n",
    "df = pd.read_csv(\"/dbfs/mnt/processed/Ads_General_Por_Dia/anuncios_insights_general_por_dia_limpiado.csv\")\n",
    "\n",
    "# Asegurarse de que la columna date_start esté en formato de fecha\n",
    "df['fecha_inicio'] = pd.to_datetime(df['fecha_inicio'])\n",
    "\n",
    "# Especificar el parámetro que deseas analizar\n",
    "parametro_a_analizar = 'veces_mostrado'  # Cambia este valor por la columna que deseas analizar\n",
    "\n",
    "# Agrupar por fecha y sumar el parámetro seleccionado\n",
    "df_grouped = df.groupby('fecha_inicio')[parametro_a_analizar].sum()\n",
    "\n",
    "# Crear el histograma para mostrar la distribución del parámetro a lo largo del tiempo (por fecha)\n",
    "plt.figure(figsize=(10, 6))\n",
    "plt.hist(df_grouped.index, weights=df_grouped.values, bins=30, color='skyblue')\n",
    "\n",
    "# Formatear las fechas en el eje x para que se muestren con el formato deseado\n",
    "plt.gca().xaxis.set_major_formatter(mdates.DateFormatter('%d/%m/%y'))\n",
    "plt.gca().xaxis.set_major_locator(mdates.DayLocator(interval=7))  # Intervalo de 7 días\n",
    "\n",
    "# Añadir etiquetas y título dinámico basado en el parámetro\n",
    "plt.title(f'Histograma de {parametro_a_analizar} a lo largo del tiempo (por Fecha)')\n",
    "plt.xlabel('Fecha')\n",
    "plt.ylabel(f'Cantidad de {parametro_a_analizar}')\n",
    "\n",
    "# Mostrar el gráfico\n",
    "plt.tight_layout()\n",
    "plt.show()\n"
   ]
  },
  {
   "cell_type": "code",
   "execution_count": 0,
   "metadata": {
    "application/vnd.databricks.v1+cell": {
     "cellMetadata": {
      "byteLimit": 2048000,
      "rowLimit": 10000
     },
     "inputWidgets": {},
     "nuid": "cf54fe8b-ed0f-4cb0-a352-be1cfa37f3e4",
     "showTitle": false,
     "tableResultSettingsMap": {},
     "title": ""
    }
   },
   "outputs": [],
   "source": [
    "import pandas as pd\n",
    "import matplotlib.pyplot as plt\n",
    "import matplotlib.dates as mdates\n",
    "\n",
    "# Cargar el archivo CSV\n",
    "df = pd.read_csv(\"/dbfs/mnt/processed/Ads_General_Por_Dia/anuncios_insights_general_por_dia_limpiado.csv\")\n",
    "\n",
    "# Asegurarse de que la columna date_start esté en formato de fecha\n",
    "df['fecha_inicio'] = pd.to_datetime(df['fecha_inicio'])\n",
    "\n",
    "# Especificar el parámetro que deseas analizar\n",
    "parametro_a_analizar = 'reacciones_post'  # Cambia este valor por la columna que deseas analizar\n",
    "\n",
    "# Agrupar por fecha y sumar el parámetro seleccionado\n",
    "df_grouped = df.groupby('fecha_inicio')[parametro_a_analizar].sum()\n",
    "\n",
    "# Crear el histograma para mostrar la distribución del parámetro a lo largo del tiempo (por fecha)\n",
    "plt.figure(figsize=(10, 6))\n",
    "plt.hist(df_grouped.index, weights=df_grouped.values, bins=30, color='skyblue')\n",
    "\n",
    "# Formatear las fechas en el eje x para que se muestren con el formato deseado\n",
    "plt.gca().xaxis.set_major_formatter(mdates.DateFormatter('%d/%m/%y'))\n",
    "plt.gca().xaxis.set_major_locator(mdates.DayLocator(interval=7))  # Intervalo de 7 días\n",
    "\n",
    "# Añadir etiquetas y título dinámico basado en el parámetro\n",
    "plt.title(f'Histograma de {parametro_a_analizar} a lo largo del tiempo (por Fecha)')\n",
    "plt.xlabel('Fecha')\n",
    "plt.ylabel(f'Cantidad de {parametro_a_analizar}')\n",
    "\n",
    "# Mostrar el gráfico\n",
    "plt.tight_layout()\n",
    "plt.show()\n"
   ]
  },
  {
   "cell_type": "code",
   "execution_count": 0,
   "metadata": {
    "application/vnd.databricks.v1+cell": {
     "cellMetadata": {
      "byteLimit": 2048000,
      "rowLimit": 10000
     },
     "inputWidgets": {},
     "nuid": "66886234-f267-46e3-b1f9-98cae8b11f37",
     "showTitle": false,
     "tableResultSettingsMap": {},
     "title": ""
    }
   },
   "outputs": [],
   "source": [
    "import pandas as pd\n",
    "import matplotlib.pyplot as plt\n",
    "import matplotlib.dates as mdates\n",
    "\n",
    "# Cargar el archivo CSV\n",
    "df = pd.read_csv(\"/dbfs/mnt/processed/Ads_General_Por_Dia/anuncios_insights_general_por_dia_limpiado.csv\")\n",
    "\n",
    "# Asegurarse de que la columna date_start esté en formato de fecha\n",
    "df['fecha_inicio'] = pd.to_datetime(df['fecha_inicio'])\n",
    "\n",
    "# Especificar el parámetro que deseas analizar\n",
    "parametro_a_analizar = 'promedio_frecuencia'  # Cambia este valor por la columna que deseas analizar\n",
    "\n",
    "# Agrupar por fecha y sumar el parámetro seleccionado\n",
    "df_grouped = df.groupby('fecha_inicio')[parametro_a_analizar].sum()\n",
    "\n",
    "# Crear el histograma para mostrar la distribución del parámetro a lo largo del tiempo (por fecha)\n",
    "plt.figure(figsize=(10, 6))\n",
    "plt.hist(df_grouped.index, weights=df_grouped.values, bins=30, color='skyblue')\n",
    "\n",
    "# Formatear las fechas en el eje x para que se muestren con el formato deseado\n",
    "plt.gca().xaxis.set_major_formatter(mdates.DateFormatter('%d/%m/%y'))\n",
    "plt.gca().xaxis.set_major_locator(mdates.DayLocator(interval=7))  # Intervalo de 7 días\n",
    "\n",
    "# Añadir etiquetas y título dinámico basado en el parámetro\n",
    "plt.title(f'Histograma de {parametro_a_analizar} a lo largo del tiempo (por Fecha)')\n",
    "plt.xlabel('Fecha')\n",
    "plt.ylabel(f'Cantidad de {parametro_a_analizar}')\n",
    "\n",
    "# Mostrar el gráfico\n",
    "plt.tight_layout()\n",
    "plt.show()\n"
   ]
  },
  {
   "cell_type": "code",
   "execution_count": 0,
   "metadata": {
    "application/vnd.databricks.v1+cell": {
     "cellMetadata": {
      "byteLimit": 2048000,
      "rowLimit": 10000
     },
     "inputWidgets": {},
     "nuid": "884ecfa1-788b-4112-8c45-f8b5aecbcfa7",
     "showTitle": false,
     "tableResultSettingsMap": {},
     "title": ""
    }
   },
   "outputs": [],
   "source": [
    "import pandas as pd\n",
    "import matplotlib.pyplot as plt\n",
    "import matplotlib.dates as mdates\n",
    "\n",
    "# Cargar el archivo CSV\n",
    "df = pd.read_csv(\"/dbfs/mnt/processed/Ads_General_Por_Dia/anuncios_insights_general_por_dia_limpiado.csv\")\n",
    "\n",
    "# Asegurarse de que la columna date_start esté en formato de fecha\n",
    "df['fecha_inicio'] = pd.to_datetime(df['fecha_inicio'])\n",
    "\n",
    "# Especificar el parámetro que deseas analizar\n",
    "parametro_a_analizar = 'personas_alcanzadas'  # Cambia este valor por la columna que deseas analizar\n",
    "\n",
    "# Agrupar por fecha y sumar el parámetro seleccionado\n",
    "df_grouped = df.groupby('fecha_inicio')[parametro_a_analizar].sum()\n",
    "\n",
    "# Crear el histograma para mostrar la distribución del parámetro a lo largo del tiempo (por fecha)\n",
    "plt.figure(figsize=(10, 6))\n",
    "plt.hist(df_grouped.index, weights=df_grouped.values, bins=30, color='skyblue')\n",
    "\n",
    "# Formatear las fechas en el eje x para que se muestren con el formato deseado\n",
    "plt.gca().xaxis.set_major_formatter(mdates.DateFormatter('%d/%m/%y'))\n",
    "plt.gca().xaxis.set_major_locator(mdates.DayLocator(interval=7))  # Intervalo de 7 días\n",
    "\n",
    "# Añadir etiquetas y título dinámico basado en el parámetro\n",
    "plt.title(f'Histograma de {parametro_a_analizar} a lo largo del tiempo (por Fecha)')\n",
    "plt.xlabel('Fecha')\n",
    "plt.ylabel(f'Cantidad de {parametro_a_analizar}')\n",
    "\n",
    "# Mostrar el gráfico\n",
    "plt.tight_layout()\n",
    "plt.show()\n"
   ]
  },
  {
   "cell_type": "code",
   "execution_count": 0,
   "metadata": {
    "application/vnd.databricks.v1+cell": {
     "cellMetadata": {
      "byteLimit": 2048000,
      "rowLimit": 10000
     },
     "inputWidgets": {},
     "nuid": "8c050517-92b9-412b-8cb0-7355bded178c",
     "showTitle": false,
     "tableResultSettingsMap": {},
     "title": ""
    }
   },
   "outputs": [],
   "source": [
    "import pandas as pd\n",
    "import matplotlib.pyplot as plt\n",
    "import matplotlib.dates as mdates\n",
    "\n",
    "# Cargar el archivo CSV\n",
    "df = pd.read_csv(\"/dbfs/mnt/processed/Ads_General_Por_Dia/anuncios_insights_general_por_dia_limpiado.csv\")\n",
    "\n",
    "# Asegurarse de que la columna date_start esté en formato de fecha\n",
    "df['fecha_inicio'] = pd.to_datetime(df['fecha_inicio'])\n",
    "\n",
    "# Especificar el parámetro que deseas analizar\n",
    "parametro_a_analizar = 'like'  # Cambia este valor por la columna que deseas analizar\n",
    "\n",
    "# Agrupar por fecha y sumar el parámetro seleccionado\n",
    "df_grouped = df.groupby('fecha_inicio')[parametro_a_analizar].sum()\n",
    "\n",
    "# Crear el histograma para mostrar la distribución del parámetro a lo largo del tiempo (por fecha)\n",
    "plt.figure(figsize=(10, 6))\n",
    "plt.hist(df_grouped.index, weights=df_grouped.values, bins=30, color='skyblue')\n",
    "\n",
    "# Formatear las fechas en el eje x para que se muestren con el formato deseado\n",
    "plt.gca().xaxis.set_major_formatter(mdates.DateFormatter('%d/%m/%y'))\n",
    "plt.gca().xaxis.set_major_locator(mdates.DayLocator(interval=7))  # Intervalo de 7 días\n",
    "\n",
    "# Añadir etiquetas y título dinámico basado en el parámetro\n",
    "plt.title(f'Histograma de {parametro_a_analizar} a lo largo del tiempo (por Fecha)')\n",
    "plt.xlabel('Fecha')\n",
    "plt.ylabel(f'Cantidad de {parametro_a_analizar}')\n",
    "\n",
    "# Mostrar el gráfico\n",
    "plt.tight_layout()\n",
    "plt.show()"
   ]
  },
  {
   "cell_type": "code",
   "execution_count": 0,
   "metadata": {
    "application/vnd.databricks.v1+cell": {
     "cellMetadata": {
      "byteLimit": 2048000,
      "rowLimit": 10000
     },
     "inputWidgets": {},
     "nuid": "c219ba36-dc87-4136-9b09-09787267f9aa",
     "showTitle": false,
     "tableResultSettingsMap": {},
     "title": ""
    }
   },
   "outputs": [],
   "source": [
    "import pandas as pd\n",
    "import matplotlib.pyplot as plt\n",
    "import matplotlib.dates as mdates\n",
    "\n",
    "# Cargar el archivo CSV\n",
    "df = pd.read_csv(\"/dbfs/mnt/processed/Ads_General_Por_Dia/anuncios_insights_general_por_dia_limpiado.csv\")\n",
    "\n",
    "# Asegurarse de que la columna date_start esté en formato de fecha\n",
    "df['fecha_inicio'] = pd.to_datetime(df['fecha_inicio'])\n",
    "\n",
    "# Seleccionar las columnas que especificar para sumar\n",
    "columns_to_sum = ['like', 'reacciones_post', 'comentarios', 'interaccion_post','contenido_guardado','conversion_primer_respuesta','conversion_boton_msj','clicks_en_anuncio','click_link','click_enlace_trafico']\n",
    "\n",
    "# Agrupar por fecha y sumar las interacciones\n",
    "df_grouped = df.groupby('fecha_inicio')[columns_to_sum].sum()\n",
    "\n",
    "# Sumar las columnas seleccionadas para obtener el total de interacciones por fecha\n",
    "df_grouped['total_interacciones'] = df_grouped.sum(axis=1)\n",
    "\n",
    "# Crear el histograma para mostrar la distribución de interacciones a lo largo del tiempo (por fecha)\n",
    "plt.figure(figsize=(10, 6))\n",
    "plt.hist(df_grouped.index, weights=df_grouped['total_interacciones'], bins=30, color='skyblue')\n",
    "\n",
    "# Formatear las fechas en el eje x\n",
    "plt.gca().xaxis.set_major_formatter(mdates.DateFormatter('%y/%m/%d'))\n",
    "plt.gca().xaxis.set_major_locator(mdates.DayLocator(interval=7))\n",
    "\n",
    "# Añadir etiquetas y título\n",
    "plt.title('Histograma de Interacciones a lo largo del tiempo (por Fecha)')\n",
    "plt.xlabel('Fecha')\n",
    "plt.ylabel('Total de Interacciones')\n",
    "\n",
    "\n",
    "# Mostrar el gráfico\n",
    "plt.tight_layout()\n",
    "plt.show()"
   ]
  },
  {
   "cell_type": "code",
   "execution_count": 0,
   "metadata": {
    "application/vnd.databricks.v1+cell": {
     "cellMetadata": {
      "byteLimit": 2048000,
      "rowLimit": 10000
     },
     "inputWidgets": {},
     "nuid": "93980798-7451-40a6-be0b-afbaa99a63c8",
     "showTitle": false,
     "tableResultSettingsMap": {},
     "title": ""
    }
   },
   "outputs": [],
   "source": [
    "import pandas as pd\n",
    "import matplotlib.pyplot as plt\n",
    "import matplotlib.dates as mdates\n",
    "\n",
    "# Cargar el archivo CSV\n",
    "df = pd.read_csv(\"/dbfs/mnt/processed/Ads_General_Por_Dia/anuncios_insights_general_por_dia_limpiado.csv\")\n",
    "\n",
    "# Asegurarse de que la columna date_start esté en formato de fecha\n",
    "df['fecha_inicio'] = pd.to_datetime(df['fecha_inicio'])\n",
    "\n",
    "# Especificar el parámetro que deseas analizar\n",
    "parametro_a_analizar = 'interaccion_post'  # Cambia este valor por la columna que deseas analizar\n",
    "\n",
    "# Agrupar por fecha y sumar el parámetro seleccionado\n",
    "df_grouped = df.groupby('fecha_inicio')[parametro_a_analizar].sum()\n",
    "\n",
    "# Crear el histograma para mostrar la distribución del parámetro a lo largo del tiempo (por fecha)\n",
    "plt.figure(figsize=(10, 6))\n",
    "plt.hist(df_grouped.index, weights=df_grouped.values, bins=30, color='skyblue')\n",
    "\n",
    "# Formatear las fechas en el eje x para que se muestren con el formato deseado\n",
    "plt.gca().xaxis.set_major_formatter(mdates.DateFormatter('%d/%m/%y'))\n",
    "plt.gca().xaxis.set_major_locator(mdates.DayLocator(interval=7))  # Intervalo de 7 días\n",
    "\n",
    "# Añadir etiquetas y título dinámico basado en el parámetro\n",
    "plt.title(f'Histograma de {parametro_a_analizar} a lo largo del tiempo (por Fecha)')\n",
    "plt.xlabel('Fecha')\n",
    "plt.ylabel(f'Cantidad de {parametro_a_analizar}')\n",
    "\n",
    "# Mostrar el gráfico\n",
    "plt.tight_layout()\n",
    "plt.show()"
   ]
  },
  {
   "cell_type": "code",
   "execution_count": 0,
   "metadata": {
    "application/vnd.databricks.v1+cell": {
     "cellMetadata": {
      "byteLimit": 2048000,
      "rowLimit": 10000
     },
     "inputWidgets": {},
     "nuid": "bba1c500-0bdf-415e-80e2-ecf9e6641165",
     "showTitle": false,
     "tableResultSettingsMap": {},
     "title": ""
    }
   },
   "outputs": [],
   "source": [
    "import pandas as pd\n",
    "import matplotlib.pyplot as plt\n",
    "import matplotlib.dates as mdates\n",
    "\n",
    "# Cargar el archivo CSV\n",
    "df = pd.read_csv(\"/dbfs/mnt/processed/Ads_General_Por_Dia/anuncios_insights_general_por_dia_limpiado.csv\")\n",
    "\n",
    "# Asegurarse de que la columna date_start esté en formato de fecha\n",
    "df['fecha_inicio'] = pd.to_datetime(df['fecha_inicio'])\n",
    "\n",
    "# Especificar el parámetro que deseas analizar\n",
    "parametro_a_analizar = 'click_link'  # Cambia este valor por la columna que deseas analizar\n",
    "\n",
    "# Agrupar por fecha y sumar el parámetro seleccionado\n",
    "df_grouped = df.groupby('fecha_inicio')[parametro_a_analizar].sum()\n",
    "\n",
    "# Crear el histograma para mostrar la distribución del parámetro a lo largo del tiempo (por fecha)\n",
    "plt.figure(figsize=(10, 6))\n",
    "plt.hist(df_grouped.index, weights=df_grouped.values, bins=30, color='skyblue')\n",
    "\n",
    "# Formatear las fechas en el eje x para que se muestren con el formato deseado\n",
    "plt.gca().xaxis.set_major_formatter(mdates.DateFormatter('%d/%m/%y'))\n",
    "plt.gca().xaxis.set_major_locator(mdates.DayLocator(interval=7))  # Intervalo de 7 días\n",
    "\n",
    "# Añadir etiquetas y título dinámico basado en el parámetro\n",
    "plt.title(f'Histograma de {parametro_a_analizar} a lo largo del tiempo (por Fecha)')\n",
    "plt.xlabel('Fecha')\n",
    "plt.ylabel(f'Cantidad de {parametro_a_analizar}')\n",
    "\n",
    "# Mostrar el gráfico\n",
    "plt.tight_layout()\n",
    "plt.show()"
   ]
  },
  {
   "cell_type": "code",
   "execution_count": 0,
   "metadata": {
    "application/vnd.databricks.v1+cell": {
     "cellMetadata": {
      "byteLimit": 2048000,
      "rowLimit": 10000
     },
     "inputWidgets": {},
     "nuid": "ac6a04de-7069-44e6-b851-48ad36b7d9b4",
     "showTitle": false,
     "tableResultSettingsMap": {},
     "title": ""
    }
   },
   "outputs": [],
   "source": [
    "import pandas as pd\n",
    "import matplotlib.pyplot as plt\n",
    "import matplotlib.dates as mdates\n",
    "\n",
    "# Cargar el archivo CSV\n",
    "df = pd.read_csv(\"/dbfs/mnt/processed/Ads_General_Por_Dia/anuncios_insights_general_por_dia_limpiado.csv\")\n",
    "\n",
    "# Asegurarse de que la columna date_start esté en formato de fecha\n",
    "df['fecha_inicio'] = pd.to_datetime(df['fecha_inicio'])\n",
    "\n",
    "# Especificar el parámetro que deseas analizar\n",
    "parametro_a_analizar = 'clicks_en_anuncio'  # Cambia este valor por la columna que deseas analizar\n",
    "\n",
    "# Agrupar por fecha y sumar el parámetro seleccionado\n",
    "df_grouped = df.groupby('fecha_inicio')[parametro_a_analizar].sum()\n",
    "\n",
    "# Crear el histograma para mostrar la distribución del parámetro a lo largo del tiempo (por fecha)\n",
    "plt.figure(figsize=(10, 6))\n",
    "plt.hist(df_grouped.index, weights=df_grouped.values, bins=30, color='skyblue')\n",
    "\n",
    "# Formatear las fechas en el eje x para que se muestren con el formato deseado\n",
    "plt.gca().xaxis.set_major_formatter(mdates.DateFormatter('%d/%m/%y'))\n",
    "plt.gca().xaxis.set_major_locator(mdates.DayLocator(interval=7))  # Intervalo de 7 días\n",
    "\n",
    "# Añadir etiquetas y título dinámico basado en el parámetro\n",
    "plt.title(f'Histograma de {parametro_a_analizar} a lo largo del tiempo (por Fecha)')\n",
    "plt.xlabel('Fecha')\n",
    "plt.ylabel(f'Cantidad de {parametro_a_analizar}')\n",
    "\n",
    "# Mostrar el gráfico\n",
    "plt.tight_layout()\n",
    "plt.show()"
   ]
  },
  {
   "cell_type": "code",
   "execution_count": 0,
   "metadata": {
    "application/vnd.databricks.v1+cell": {
     "cellMetadata": {
      "byteLimit": 2048000,
      "rowLimit": 10000
     },
     "inputWidgets": {},
     "nuid": "41738167-984f-48f8-bf51-5639c9d63f30",
     "showTitle": false,
     "tableResultSettingsMap": {},
     "title": ""
    }
   },
   "outputs": [],
   "source": [
    "import pandas as pd\n",
    "import matplotlib.pyplot as plt\n",
    "import matplotlib.dates as mdates\n",
    "\n",
    "# Cargar el archivo CSV\n",
    "df = pd.read_csv(\"/dbfs/mnt/processed/Ads_General_Por_Dia/anuncios_insights_general_por_dia_limpiado.csv\")\n",
    "\n",
    "# Asegurarse de que la columna date_start esté en formato de fecha\n",
    "df['fecha_inicio'] = pd.to_datetime(df['fecha_inicio'])\n",
    "\n",
    "# Especificar el parámetro que deseas analizar\n",
    "parametro_a_analizar = 'comentarios'  # Cambia este valor por la columna que deseas analizar\n",
    "\n",
    "# Agrupar por fecha y sumar el parámetro seleccionado\n",
    "df_grouped = df.groupby('fecha_inicio')[parametro_a_analizar].sum()\n",
    "\n",
    "# Crear el histograma para mostrar la distribución del parámetro a lo largo del tiempo (por fecha)\n",
    "plt.figure(figsize=(10, 6))\n",
    "plt.hist(df_grouped.index, weights=df_grouped.values, bins=30, color='skyblue')\n",
    "\n",
    "# Formatear las fechas en el eje x para que se muestren con el formato deseado\n",
    "plt.gca().xaxis.set_major_formatter(mdates.DateFormatter('%d/%m/%y'))\n",
    "plt.gca().xaxis.set_major_locator(mdates.DayLocator(interval=7))  # Intervalo de 7 días\n",
    "\n",
    "# Añadir etiquetas y título dinámico basado en el parámetro\n",
    "plt.title(f'Histograma de {parametro_a_analizar} a lo largo del tiempo (por Fecha)')\n",
    "plt.xlabel('Fecha')\n",
    "plt.ylabel(f'Cantidad de {parametro_a_analizar}')\n",
    "\n",
    "# Mostrar el gráfico\n",
    "plt.tight_layout()\n",
    "plt.show()"
   ]
  },
  {
   "cell_type": "code",
   "execution_count": 0,
   "metadata": {
    "application/vnd.databricks.v1+cell": {
     "cellMetadata": {
      "byteLimit": 2048000,
      "rowLimit": 10000
     },
     "inputWidgets": {},
     "nuid": "fde664fc-3330-4874-9052-40b8cac984ad",
     "showTitle": false,
     "tableResultSettingsMap": {},
     "title": ""
    }
   },
   "outputs": [],
   "source": [
    "import pandas as pd\n",
    "import matplotlib.pyplot as plt\n",
    "import matplotlib.dates as mdates\n",
    "\n",
    "# Cargar el archivo CSV\n",
    "df = pd.read_csv(\"/dbfs/mnt/processed/Ads_General_Por_Dia/anuncios_insights_general_por_dia_limpiado.csv\")\n",
    "\n",
    "# Asegurarse de que la columna date_start esté en formato de fecha\n",
    "df['fecha_inicio'] = pd.to_datetime(df['fecha_inicio'])\n",
    "\n",
    "# Especificar el parámetro que deseas analizar\n",
    "parametro_a_analizar = 'contenido_guardado'  # Cambia este valor por la columna que deseas analizar\n",
    "\n",
    "# Agrupar por fecha y sumar el parámetro seleccionado\n",
    "df_grouped = df.groupby('fecha_inicio')[parametro_a_analizar].sum()\n",
    "\n",
    "# Crear el histograma para mostrar la distribución del parámetro a lo largo del tiempo (por fecha)\n",
    "plt.figure(figsize=(10, 6))\n",
    "plt.hist(df_grouped.index, weights=df_grouped.values, bins=30, color='skyblue')\n",
    "\n",
    "# Formatear las fechas en el eje x para que se muestren con el formato deseado\n",
    "plt.gca().xaxis.set_major_formatter(mdates.DateFormatter('%d/%m'))\n",
    "plt.gca().xaxis.set_major_locator(mdates.DayLocator(interval=2))  # Intervalo de 7 días\n",
    "\n",
    "# Añadir etiquetas y título dinámico basado en el parámetro\n",
    "plt.title(f'Histograma de {parametro_a_analizar} a lo largo del tiempo (por Fecha)')\n",
    "plt.xlabel('Fecha')\n",
    "plt.ylabel(f'Cantidad de {parametro_a_analizar}')\n",
    "\n",
    "# Mostrar el gráfico\n",
    "plt.tight_layout()\n",
    "plt.show()"
   ]
  },
  {
   "cell_type": "code",
   "execution_count": 0,
   "metadata": {
    "application/vnd.databricks.v1+cell": {
     "cellMetadata": {
      "byteLimit": 2048000,
      "rowLimit": 10000
     },
     "inputWidgets": {},
     "nuid": "b9e93f0e-821f-452d-b77c-53ab950934ed",
     "showTitle": false,
     "tableResultSettingsMap": {},
     "title": ""
    }
   },
   "outputs": [],
   "source": [
    "import pandas as pd\n",
    "import matplotlib.pyplot as plt\n",
    "import matplotlib.dates as mdates\n",
    "\n",
    "# Cargar el archivo CSV\n",
    "df = pd.read_csv(\"/dbfs/mnt/processed/Ads_General_Por_Dia/anuncios_insights_general_por_dia_limpiado.csv\")\n",
    "\n",
    "# Asegurarse de que la columna date_start esté en formato de fecha\n",
    "df['fecha_inicio'] = pd.to_datetime(df['fecha_inicio'])\n",
    "\n",
    "# Especificar el parámetro que deseas analizar\n",
    "parametro_a_analizar = 'conversion_boton_msj'  # Cambia este valor por la columna que deseas analizar\n",
    "\n",
    "# Agrupar por fecha y sumar el parámetro seleccionado\n",
    "df_grouped = df.groupby('fecha_inicio')[parametro_a_analizar].sum()\n",
    "\n",
    "# Crear el histograma para mostrar la distribución del parámetro a lo largo del tiempo (por fecha)\n",
    "plt.figure(figsize=(10, 6))\n",
    "plt.hist(df_grouped.index, weights=df_grouped.values, bins=30, color='skyblue')\n",
    "\n",
    "# Formatear las fechas en el eje x para que se muestren con el formato deseado\n",
    "plt.gca().xaxis.set_major_formatter(mdates.DateFormatter('%d/%m/%y'))\n",
    "plt.gca().xaxis.set_major_locator(mdates.DayLocator(interval=7))  # Intervalo de 7 días\n",
    "\n",
    "# Añadir etiquetas y título dinámico basado en el parámetro\n",
    "plt.title(f'Histograma de {parametro_a_analizar} a lo largo del tiempo (por Fecha)')\n",
    "plt.xlabel('Fecha')\n",
    "plt.ylabel(f'Cantidad de {parametro_a_analizar}')\n",
    "\n",
    "# Mostrar el gráfico\n",
    "plt.tight_layout()\n",
    "plt.show()"
   ]
  },
  {
   "cell_type": "code",
   "execution_count": 0,
   "metadata": {
    "application/vnd.databricks.v1+cell": {
     "cellMetadata": {
      "byteLimit": 2048000,
      "rowLimit": 10000
     },
     "inputWidgets": {},
     "nuid": "cefbeef0-4bdd-4e23-b003-c5701ee08db9",
     "showTitle": false,
     "tableResultSettingsMap": {},
     "title": ""
    }
   },
   "outputs": [],
   "source": [
    "import pandas as pd\n",
    "import matplotlib.pyplot as plt\n",
    "import matplotlib.dates as mdates\n",
    "\n",
    "# Cargar el archivo CSV\n",
    "df = pd.read_csv(\"/dbfs/mnt/processed/Ads_General_Por_Dia/anuncios_insights_general_por_dia_limpiado.csv\")\n",
    "\n",
    "# Asegurarse de que la columna date_start esté en formato de fecha\n",
    "df['fecha_inicio'] = pd.to_datetime(df['fecha_inicio'])\n",
    "\n",
    "# Especificar el parámetro que deseas analizar\n",
    "parametro_a_analizar = 'conversion_primer_respuesta'  # Cambia este valor por la columna que deseas analizar\n",
    "\n",
    "# Agrupar por fecha y sumar el parámetro seleccionado\n",
    "df_grouped = df.groupby('fecha_inicio')[parametro_a_analizar].sum()\n",
    "\n",
    "# Crear el histograma para mostrar la distribución del parámetro a lo largo del tiempo (por fecha)\n",
    "plt.figure(figsize=(10, 6))\n",
    "plt.hist(df_grouped.index, weights=df_grouped.values, bins=30, color='skyblue')\n",
    "\n",
    "# Formatear las fechas en el eje x para que se muestren con el formato deseado\n",
    "plt.gca().xaxis.set_major_formatter(mdates.DateFormatter('%d/%m/%y'))\n",
    "plt.gca().xaxis.set_major_locator(mdates.DayLocator(interval=7))  # Intervalo de 7 días\n",
    "\n",
    "# Añadir etiquetas y título dinámico basado en el parámetro\n",
    "plt.title(f'Histograma de {parametro_a_analizar} a lo largo del tiempo (por Fecha)')\n",
    "plt.xlabel('Fecha')\n",
    "plt.ylabel(f'Cantidad de {parametro_a_analizar}')\n",
    "\n",
    "# Mostrar el gráfico\n",
    "plt.tight_layout()\n",
    "plt.show()\n"
   ]
  },
  {
   "cell_type": "code",
   "execution_count": 0,
   "metadata": {
    "application/vnd.databricks.v1+cell": {
     "cellMetadata": {
      "byteLimit": 2048000,
      "rowLimit": 10000
     },
     "inputWidgets": {},
     "nuid": "57dd72d5-a82d-4458-8fe0-661eb4137c0e",
     "showTitle": false,
     "tableResultSettingsMap": {},
     "title": ""
    }
   },
   "outputs": [],
   "source": [
    "import pandas as pd\n",
    "import matplotlib.pyplot as plt\n",
    "import matplotlib.dates as mdates\n",
    "\n",
    "# Cargar el archivo CSV\n",
    "df = pd.read_csv(\"/dbfs/mnt/processed/Ads_General_Por_Dia/anuncios_insights_general_por_dia_limpiado.csv\")\n",
    "\n",
    "# Asegurarse de que la columna date_start esté en formato de fecha\n",
    "df['fecha_inicio'] = pd.to_datetime(df['fecha_inicio'])\n",
    "\n",
    "# Especificar el parámetro que deseas analizar\n",
    "parametro_a_analizar = 'costo_por_click_anuncio'  # Cambia este valor por la columna que deseas analizar\n",
    "\n",
    "# Agrupar por fecha y sumar el parámetro seleccionado\n",
    "df_grouped = df.groupby('fecha_inicio')[parametro_a_analizar].sum()\n",
    "\n",
    "# Crear el histograma para mostrar la distribución del parámetro a lo largo del tiempo (por fecha)\n",
    "plt.figure(figsize=(10, 6))\n",
    "plt.hist(df_grouped.index, weights=df_grouped.values, bins=30, color='skyblue')\n",
    "\n",
    "# Formatear las fechas en el eje x para que se muestren con el formato deseado\n",
    "plt.gca().xaxis.set_major_formatter(mdates.DateFormatter('%d/%m/%y'))\n",
    "plt.gca().xaxis.set_major_locator(mdates.DayLocator(interval=7))  # Intervalo de 7 días\n",
    "\n",
    "# Añadir etiquetas y título dinámico basado en el parámetro\n",
    "plt.title(f'Histograma de {parametro_a_analizar} a lo largo del tiempo (por Fecha)')\n",
    "plt.xlabel('Fecha')\n",
    "plt.ylabel(f'Cantidad de {parametro_a_analizar}')\n",
    "\n",
    "# Mostrar el gráfico\n",
    "plt.tight_layout()\n",
    "plt.show()"
   ]
  },
  {
   "cell_type": "code",
   "execution_count": 0,
   "metadata": {
    "application/vnd.databricks.v1+cell": {
     "cellMetadata": {
      "byteLimit": 2048000,
      "rowLimit": 10000
     },
     "inputWidgets": {},
     "nuid": "66896f4f-30ce-47cf-8050-5b86c913cc4d",
     "showTitle": false,
     "tableResultSettingsMap": {},
     "title": ""
    }
   },
   "outputs": [],
   "source": [
    "import pandas as pd\n",
    "import matplotlib.pyplot as plt\n",
    "import matplotlib.dates as mdates\n",
    "\n",
    "# Cargar el archivo CSV\n",
    "df = pd.read_csv(\"/dbfs/mnt/processed/Ads_General_Por_Dia/anuncios_insights_general_por_dia_limpiado.csv\")\n",
    "\n",
    "# Asegurarse de que la columna date_start esté en formato de fecha\n",
    "df['fecha_inicio'] = pd.to_datetime(df['fecha_inicio'])\n",
    "\n",
    "# Especificar el parámetro que deseas analizar\n",
    "parametro_a_analizar = 'costo_por_mil_impresiones'  # Cambia este valor por la columna que deseas analizar\n",
    "\n",
    "# Agrupar por fecha y sumar el parámetro seleccionado\n",
    "df_grouped = df.groupby('fecha_inicio')[parametro_a_analizar].sum()\n",
    "\n",
    "# Crear el histograma para mostrar la distribución del parámetro a lo largo del tiempo (por fecha)\n",
    "plt.figure(figsize=(10, 6))\n",
    "plt.hist(df_grouped.index, weights=df_grouped.values, bins=30, color='skyblue')\n",
    "\n",
    "# Formatear las fechas en el eje x para que se muestren con el formato deseado\n",
    "plt.gca().xaxis.set_major_formatter(mdates.DateFormatter('%d/%m/%y'))\n",
    "plt.gca().xaxis.set_major_locator(mdates.DayLocator(interval=7))  # Intervalo de 7 días\n",
    "\n",
    "# Añadir etiquetas y título dinámico basado en el parámetro\n",
    "plt.title(f'Histograma de {parametro_a_analizar} a lo largo del tiempo (por Fecha)')\n",
    "plt.xlabel('Fecha')\n",
    "plt.ylabel(f'Cantidad de {parametro_a_analizar}')\n",
    "\n",
    "# Mostrar el gráfico\n",
    "plt.tight_layout()\n",
    "plt.show()"
   ]
  },
  {
   "cell_type": "code",
   "execution_count": 0,
   "metadata": {
    "application/vnd.databricks.v1+cell": {
     "cellMetadata": {
      "byteLimit": 2048000,
      "rowLimit": 10000
     },
     "inputWidgets": {},
     "nuid": "b27a47de-3e33-41c0-92cc-f4f93667f053",
     "showTitle": false,
     "tableResultSettingsMap": {},
     "title": ""
    }
   },
   "outputs": [],
   "source": [
    "\n",
    "import pandas as pd\n",
    "import matplotlib.pyplot as plt\n",
    "import matplotlib.dates as mdates\n",
    "\n",
    "# Cargar el archivo CSV\n",
    "df = pd.read_csv(\"/dbfs/mnt/processed/Ads_General_Por_Dia/anuncios_insights_general_por_dia_limpiado.csv\")\n",
    "\n",
    "# Asegurarse de que la columna date_start esté en formato de fecha\n",
    "df['fecha_inicio'] = pd.to_datetime(df['fecha_inicio'])\n",
    "\n",
    "# Especificar el parámetro que deseas analizar\n",
    "parametro_a_analizar = 'click_enlace_trafico'  # Cambia este valor por la columna que deseas analizar\n",
    "\n",
    "# Agrupar por fecha y sumar el parámetro seleccionado\n",
    "df_grouped = df.groupby('fecha_inicio')[parametro_a_analizar].sum()\n",
    "\n",
    "# Crear el histograma para mostrar la distribución del parámetro a lo largo del tiempo (por fecha)\n",
    "plt.figure(figsize=(10, 6))\n",
    "plt.hist(df_grouped.index, weights=df_grouped.values, bins=30, color='skyblue')\n",
    "\n",
    "# Formatear las fechas en el eje x para que se muestren con el formato deseado\n",
    "plt.gca().xaxis.set_major_formatter(mdates.DateFormatter('%d/%m/%y'))\n",
    "plt.gca().xaxis.set_major_locator(mdates.DayLocator(interval=7))  # Intervalo de 7 días\n",
    "\n",
    "# Añadir etiquetas y título dinámico basado en el parámetro\n",
    "plt.title(f'Histograma de {parametro_a_analizar} a lo largo del tiempo (por Fecha)')\n",
    "plt.xlabel('Fecha')\n",
    "plt.ylabel(f'Cantidad de {parametro_a_analizar}')\n",
    "\n",
    "# Mostrar el gráfico\n",
    "plt.tight_layout()\n",
    "plt.show()"
   ]
  },
  {
   "cell_type": "code",
   "execution_count": 0,
   "metadata": {
    "application/vnd.databricks.v1+cell": {
     "cellMetadata": {
      "byteLimit": 2048000,
      "rowLimit": 10000
     },
     "inputWidgets": {},
     "nuid": "06bee9b3-d672-4670-beac-f662d03f20d8",
     "showTitle": false,
     "tableResultSettingsMap": {},
     "title": ""
    }
   },
   "outputs": [],
   "source": [
    "import pandas as pd\n",
    "import matplotlib.pyplot as plt\n",
    "import matplotlib.dates as mdates\n",
    "\n",
    "# Cargar el archivo CSV\n",
    "df = pd.read_csv(\"/dbfs/mnt/processed/Ads_General_Por_Dia/anuncios_insights_general_por_dia_limpiado.csv\")\n",
    "\n",
    "# Asegurarse de que la columna date_start esté en formato de fecha\n",
    "df['fecha_inicio'] = pd.to_datetime(df['fecha_inicio'])\n",
    "\n",
    "# Especificar el parámetro que deseas analizar\n",
    "parametro_a_analizar = 'gasto'  # Cambia este valor por la columna que deseas analizar\n",
    "\n",
    "# Agrupar por fecha y sumar el parámetro seleccionado\n",
    "df_grouped = df.groupby('fecha_inicio')[parametro_a_analizar].sum()\n",
    "\n",
    "# Crear el histograma para mostrar la distribución del parámetro a lo largo del tiempo (por fecha)\n",
    "plt.figure(figsize=(10, 6))\n",
    "plt.hist(df_grouped.index, weights=df_grouped.values, bins=30, color='skyblue')\n",
    "\n",
    "# Formatear las fechas en el eje x para que se muestren con el formato deseado\n",
    "plt.gca().xaxis.set_major_formatter(mdates.DateFormatter('%d/%m/%y'))\n",
    "plt.gca().xaxis.set_major_locator(mdates.DayLocator(interval=7))  # Intervalo de 7 días\n",
    "\n",
    "# Añadir etiquetas y título dinámico basado en el parámetro\n",
    "plt.title(f'Histograma de {parametro_a_analizar} a lo largo del tiempo (por Fecha)')\n",
    "plt.xlabel('Fecha')\n",
    "plt.ylabel(f'Cantidad de {parametro_a_analizar}')\n",
    "\n",
    "# Mostrar el gráfico\n",
    "plt.tight_layout()\n",
    "plt.show()"
   ]
  }
 ],
 "metadata": {
  "application/vnd.databricks.v1+notebook": {
   "dashboards": [],
   "environmentMetadata": null,
   "language": "python",
   "notebookMetadata": {
    "pythonIndentUnit": 4
   },
   "notebookName": "Histo_General_Por_Dia",
   "widgets": {}
  },
  "language_info": {
   "name": "python"
  }
 },
 "nbformat": 4,
 "nbformat_minor": 0
}
